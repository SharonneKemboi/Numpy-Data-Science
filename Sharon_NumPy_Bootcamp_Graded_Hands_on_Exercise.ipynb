{
  "nbformat": 4,
  "nbformat_minor": 0,
  "metadata": {
    "colab": {
      "provenance": [],
      "toc_visible": true,
      "include_colab_link": true
    },
    "kernelspec": {
      "name": "python3",
      "display_name": "Python 3"
    },
    "language_info": {
      "name": "python"
    }
  },
  "cells": [
    {
      "cell_type": "markdown",
      "metadata": {
        "id": "view-in-github",
        "colab_type": "text"
      },
      "source": [
        "<a href=\"https://colab.research.google.com/github/SharonneKemboi/Numpy-Data-Science/blob/master/Sharon_NumPy_Bootcamp_Graded_Hands_on_Exercise.ipynb\" target=\"_parent\"><img src=\"https://colab.research.google.com/assets/colab-badge.svg\" alt=\"Open In Colab\"/></a>"
      ]
    },
    {
      "cell_type": "markdown",
      "metadata": {
        "id": "OZpduK2BJvzZ"
      },
      "source": [
        "### **Overview**\n",
        "\n",
        "Dear Learner, \n",
        "\n",
        "Congratulations, you have studied NumPy all the way through the end of this bootcamp!!! This is the final graded hands-on exercise where you will be accomplishing the below mentioned task.\n",
        "\n",
        "**Author:** Avantika Podar"
      ]
    },
    {
      "cell_type": "markdown",
      "metadata": {
        "id": "UC6lZAsJLiFg"
      },
      "source": [
        "###Task 1:   \n",
        "\n",
        "Construct a random 3x28x28 NumPy array called *original* to represent an image and then convert this into into a 1x(3x28x28) array called *flat*. This converts it into a single row of pixels. Next, convert this to a 1D array (flatten the array using flat.flatten()). Print shape of all arrays. You may use the random function to generate the array.\n",
        "\n"
      ]
    },
    {
      "cell_type": "code",
      "metadata": {
        "id": "Qno3FG8M9RXZ",
        "colab": {
          "base_uri": "https://localhost:8080/"
        },
        "outputId": "9e77d850-450e-4a79-d552-b19f821037ce"
      },
      "source": [
        "#Import Numpy\n",
        "import numpy as np  \n",
        "\n",
        "#random numpy array that rep an image\n",
        "original = np.random.random((3,28,28))\n",
        "\n",
        "#array flat that converts to 1 x(3x28x28) use reshape\n",
        "flat = original.reshape(1,3*28*28)\n",
        "\n",
        "#covert to 1D array and use flat.flatten method to flatten array\n",
        "one_arr = flat.flatten()\n",
        "\n",
        "#Print shape of all arrays\n",
        "print (original.shape) \n",
        "print (flat.shape)\n",
        "print (one_arr.shape)"
      ],
      "execution_count": null,
      "outputs": [
        {
          "output_type": "stream",
          "name": "stdout",
          "text": [
            "(3, 28, 28)\n",
            "(1, 2352)\n",
            "(2352,)\n"
          ]
        }
      ]
    },
    {
      "cell_type": "markdown",
      "metadata": {
        "id": "eIcDegymM1tR"
      },
      "source": [
        "### Task 2: Print out the following: \n",
        "  * dimension of the arrays.\n",
        "  * memory address of the arrays (pointer).\n",
        "  * shape of the arrays.\n",
        "  * data types of the arrays. \n",
        "\n",
        "\n"
      ]
    },
    {
      "cell_type": "code",
      "metadata": {
        "id": "H9MUhbsn9Ych",
        "colab": {
          "base_uri": "https://localhost:8080/"
        },
        "outputId": "11a4e99a-d2cb-4cf8-ad7f-afabbd94189b"
      },
      "source": [
        "#Print Dimension of the arrays\n",
        "print (original.ndim)\n",
        "print (flat.ndim)\n",
        "print (one_arr.ndim)\n",
        "\n",
        "#Print Memory address of the arrays\n",
        "print (id(original))\n",
        "print (id(flat))\n",
        "print (id(one_arr))\n",
        "\n",
        "#Print shape of the arrays\n",
        "print (original.shape)\n",
        "print (flat.shape)\n",
        "print (one_arr.shape)\n",
        "\n",
        "#Print data types of the arrays\n",
        "print (original.dtype)\n",
        "print (flat.dtype)\n",
        "print (one_arr.dtype)"
      ],
      "execution_count": null,
      "outputs": [
        {
          "output_type": "stream",
          "name": "stdout",
          "text": [
            "3\n",
            "2\n",
            "1\n",
            "139966147954320\n",
            "139966148197520\n",
            "139966147464912\n",
            "(3, 28, 28)\n",
            "(1, 2352)\n",
            "(2352,)\n",
            "float64\n",
            "float64\n",
            "float64\n"
          ]
        }
      ]
    },
    {
      "cell_type": "markdown",
      "metadata": {
        "id": "mZYl9CjBN9bg"
      },
      "source": [
        "### Task 3: \n",
        "Construct a new array which is a negative of the *original* array, i.e, all elements are negative of those in the *original* array. Print the new array. Add the original and new arrays. Print the result. "
      ]
    },
    {
      "cell_type": "code",
      "metadata": {
        "id": "0VCQBW-F933Z",
        "colab": {
          "base_uri": "https://localhost:8080/"
        },
        "outputId": "eef339cf-b4ef-42e2-b66b-60676c756fbf"
      },
      "source": [
        "#arraywhich is negative of original \n",
        "negative_original = np.negative(original)\n",
        "\n",
        "#Print the new array\n",
        "print(negative_original)\n",
        "\n",
        "#Add the original and new arrays\n",
        "sum_of_arrays = original + negative_original\n",
        "\n",
        "# Print the result\n",
        "print(sum_of_arrays)"
      ],
      "execution_count": null,
      "outputs": [
        {
          "output_type": "stream",
          "name": "stdout",
          "text": [
            "[[[-0.29303211 -0.73537027 -0.01180026 ... -0.94220108 -0.85572365\n",
            "   -0.76160226]\n",
            "  [-0.18871859 -0.64366664 -0.4212331  ... -0.49012104 -0.41478399\n",
            "   -0.55893864]\n",
            "  [-0.89853894 -0.29534689 -0.35095842 ... -0.05764117 -0.10188815\n",
            "   -0.84406624]\n",
            "  ...\n",
            "  [-0.68056969 -0.21837747 -0.26392981 ... -0.18121472 -0.82154297\n",
            "   -0.15043887]\n",
            "  [-0.2050387  -0.9291305  -0.08841377 ... -0.21798658 -0.52395173\n",
            "   -0.74475571]\n",
            "  [-0.64897455 -0.7548463  -0.69023787 ... -0.95368557 -0.18315389\n",
            "   -0.5119431 ]]\n",
            "\n",
            " [[-0.01887119 -0.41588779 -0.53761715 ... -0.59306547 -0.66693895\n",
            "   -0.01195258]\n",
            "  [-0.51688969 -0.98135612 -0.77026686 ... -0.79129604 -0.2503266\n",
            "   -0.54724587]\n",
            "  [-0.30638588 -0.21653332 -0.67227197 ... -0.36672672 -0.85980781\n",
            "   -0.09129433]\n",
            "  ...\n",
            "  [-0.02982917 -0.30738224 -0.05065225 ... -0.3543585  -0.36957109\n",
            "   -0.66890098]\n",
            "  [-0.02275614 -0.90950944 -0.81571842 ... -0.37805977 -0.93078643\n",
            "   -0.7154787 ]\n",
            "  [-0.88594889 -0.4013393  -0.66505971 ... -0.09648665 -0.84936006\n",
            "   -0.90647247]]\n",
            "\n",
            " [[-0.57916278 -0.03094958 -0.7433478  ... -0.0098119  -0.79163372\n",
            "   -0.76283574]\n",
            "  [-0.9135515  -0.2119895  -0.40956322 ... -0.15606132 -0.31842852\n",
            "   -0.83023379]\n",
            "  [-0.63543278 -0.34196176 -0.09649975 ... -0.97505193 -0.78027942\n",
            "   -0.89005713]\n",
            "  ...\n",
            "  [-0.79382679 -0.86507292 -0.79168859 ... -0.04032871 -0.77828997\n",
            "   -0.94537665]\n",
            "  [-0.71382209 -0.38961699 -0.93600523 ... -0.77147004 -0.68349855\n",
            "   -0.39491975]\n",
            "  [-0.68891658 -0.48316085 -0.01394943 ... -0.6578071  -0.49980906\n",
            "   -0.24917692]]]\n",
            "[[[0. 0. 0. ... 0. 0. 0.]\n",
            "  [0. 0. 0. ... 0. 0. 0.]\n",
            "  [0. 0. 0. ... 0. 0. 0.]\n",
            "  ...\n",
            "  [0. 0. 0. ... 0. 0. 0.]\n",
            "  [0. 0. 0. ... 0. 0. 0.]\n",
            "  [0. 0. 0. ... 0. 0. 0.]]\n",
            "\n",
            " [[0. 0. 0. ... 0. 0. 0.]\n",
            "  [0. 0. 0. ... 0. 0. 0.]\n",
            "  [0. 0. 0. ... 0. 0. 0.]\n",
            "  ...\n",
            "  [0. 0. 0. ... 0. 0. 0.]\n",
            "  [0. 0. 0. ... 0. 0. 0.]\n",
            "  [0. 0. 0. ... 0. 0. 0.]]\n",
            "\n",
            " [[0. 0. 0. ... 0. 0. 0.]\n",
            "  [0. 0. 0. ... 0. 0. 0.]\n",
            "  [0. 0. 0. ... 0. 0. 0.]\n",
            "  ...\n",
            "  [0. 0. 0. ... 0. 0. 0.]\n",
            "  [0. 0. 0. ... 0. 0. 0.]\n",
            "  [0. 0. 0. ... 0. 0. 0.]]]\n"
          ]
        }
      ]
    },
    {
      "cell_type": "markdown",
      "metadata": {
        "id": "4UKa56EzQXaU"
      },
      "source": [
        "###Task 4\n",
        "\n",
        "A 3x28x28 basically means 28x28 matrices repeated three times. How would you access the first 10 elements of the 2nd row of the second 28x28 matrix? Consider the original array for this. Print the elements."
      ]
    },
    {
      "cell_type": "code",
      "metadata": {
        "id": "bc0stgsY93Tn",
        "colab": {
          "base_uri": "https://localhost:8080/"
        },
        "outputId": "5d11e555-20d8-4eae-8cfe-445dd6c96d91"
      },
      "source": [
        "#Accesing the first 10 elements of the 2nd rowof the second matrix\n",
        "second_rmatrix = original[1][1][0:9]\n",
        "# Print the result\n",
        "print(second_rmatrix)\n"
      ],
      "execution_count": null,
      "outputs": [
        {
          "output_type": "stream",
          "name": "stdout",
          "text": [
            "[0.51688969 0.98135612 0.77026686 0.02797024 0.25998196 0.4476374\n",
            " 0.47678376 0.73813604 0.14744243]\n"
          ]
        }
      ]
    },
    {
      "cell_type": "markdown",
      "metadata": {
        "id": "8USrPA7NdRXQ"
      },
      "source": [
        "### Task 5 (Optional)\n",
        "A 3x28x28 image means 3 channels of Red, Green, or Blue (Popularly known as RGB image). Each color channel has a height and width, which is 28X28 in this case. The entire picture can represented through this method. Print the shape of the Blue pixel matrix and its first 3 rows."
      ]
    },
    {
      "cell_type": "code",
      "metadata": {
        "id": "bQCRmVPz92r7",
        "colab": {
          "base_uri": "https://localhost:8080/"
        },
        "outputId": "c583251c-f50c-46f3-8d48-3b0dcc0990dd"
      },
      "source": [
        "a = original[2][0:3]\n",
        "\n",
        "# Print the shape of the Blue pixel matrix\n",
        "print(a.shape) \n",
        "#Print the first 3 rows.\n",
        "print(a[:])\n"
      ],
      "execution_count": null,
      "outputs": [
        {
          "output_type": "stream",
          "name": "stdout",
          "text": [
            "(3, 28)\n",
            "[[0.57916278 0.03094958 0.7433478  0.93921343 0.66675125 0.56624947\n",
            "  0.92216463 0.43305095 0.93130046 0.5930364  0.40059997 0.50824278\n",
            "  0.79534109 0.35685661 0.92302408 0.34695553 0.05063595 0.89698573\n",
            "  0.03679052 0.1207883  0.88256452 0.76153896 0.43910035 0.28307151\n",
            "  0.7796936  0.0098119  0.79163372 0.76283574]\n",
            " [0.9135515  0.2119895  0.40956322 0.35792769 0.73966896 0.14400822\n",
            "  0.97720892 0.590501   0.17794851 0.24917398 0.51426775 0.82293213\n",
            "  0.73331432 0.10631393 0.36253333 0.77282141 0.41617211 0.52103482\n",
            "  0.15616803 0.91547477 0.3298421  0.20604363 0.60428445 0.70144617\n",
            "  0.752904   0.15606132 0.31842852 0.83023379]\n",
            " [0.63543278 0.34196176 0.09649975 0.50387879 0.86726429 0.09434976\n",
            "  0.74809928 0.46009414 0.67623217 0.03787115 0.32471164 0.67181996\n",
            "  0.01899754 0.66865682 0.61495612 0.30932787 0.97859169 0.61113551\n",
            "  0.86791361 0.92495233 0.8380228  0.43138962 0.85689102 0.00780408\n",
            "  0.75462381 0.97505193 0.78027942 0.89005713]]\n"
          ]
        }
      ]
    },
    {
      "cell_type": "markdown",
      "metadata": {
        "id": "Nb9AZUweD-3m"
      },
      "source": [
        "### Task 6 \n",
        "Create a 1 dimensional numpy array of the first 50 even numbers. Convert this to a 10x5 numpy array and print its transpose. "
      ]
    },
    {
      "cell_type": "code",
      "metadata": {
        "id": "JJj-N-Kt92Nz",
        "colab": {
          "base_uri": "https://localhost:8080/"
        },
        "outputId": "f87d3b88-0b66-4aff-a91e-08c880a1d8e6"
      },
      "source": [
        "#1 dimensional numpy array of the first 50 even numbers - Use arange method\n",
        "first_fifty_even = np.arange(0, ((2 * 50) - 1), 2)\n",
        "\n",
        "#Converting to a 10x5 numpy array using reshape method\n",
        "reshape_fifty = first_fifty_even.reshape(10, 5)\n",
        "\n",
        "# print its transpose\n",
        "print(reshape_fifty.transpose())"
      ],
      "execution_count": null,
      "outputs": [
        {
          "output_type": "stream",
          "name": "stdout",
          "text": [
            "[[ 0 10 20 30 40 50 60 70 80 90]\n",
            " [ 2 12 22 32 42 52 62 72 82 92]\n",
            " [ 4 14 24 34 44 54 64 74 84 94]\n",
            " [ 6 16 26 36 46 56 66 76 86 96]\n",
            " [ 8 18 28 38 48 58 68 78 88 98]]\n"
          ]
        }
      ]
    },
    {
      "cell_type": "markdown",
      "metadata": {
        "id": "ITBNUk5dHu0f"
      },
      "source": [
        "###Task 7 \n",
        "Consider the 10x5 array created in Task 6. Find the mean of each row and column. You may use in built functions or write your own code."
      ]
    },
    {
      "cell_type": "code",
      "source": [
        "  #Mean of column \n",
        "mean_of_column = reshape_fifty.mean(axis=0)\n",
        "print (mean_of_column)     \n"
      ],
      "metadata": {
        "id": "qYrg2g-jVduw",
        "colab": {
          "base_uri": "https://localhost:8080/"
        },
        "outputId": "4e38fdb2-dff2-4727-e0d4-357040ecaffb"
      },
      "execution_count": null,
      "outputs": [
        {
          "output_type": "stream",
          "name": "stdout",
          "text": [
            "[45. 47. 49. 51. 53.]\n"
          ]
        }
      ]
    },
    {
      "cell_type": "code",
      "metadata": {
        "id": "9bFi6vVf91oY",
        "colab": {
          "base_uri": "https://localhost:8080/"
        },
        "outputId": "2475ae87-5be8-4e10-f548-26e3cb6943f4"
      },
      "source": [
        "  #Mean of row\n",
        "mean_of_row = reshape_fifty.mean(axis=1)\n",
        "print (mean_of_row)      "
      ],
      "execution_count": null,
      "outputs": [
        {
          "output_type": "stream",
          "name": "stdout",
          "text": [
            "[ 4. 14. 24. 34. 44. 54. 64. 74. 84. 94.]\n"
          ]
        }
      ]
    },
    {
      "cell_type": "markdown",
      "metadata": {
        "id": "WEHBWo7AGXKK"
      },
      "source": [
        "### Task 8\n",
        "Can we create a 3x3 array of the first 50 even numbers? Why or why not? What are other values of m and n for which mxn dimension is allowed for 50 elements?\n",
        "\n",
        "No, we cannot create a 3x3 array of the first 50 even numbers.\n",
        "\n",
        "Because, there is no way the dimensions 3x3 can accommodate exactly 50 elements, since 50 is not divisible by 3\n",
        "\n",
        "The array shape or its rows and columns should multiply and give the answer equal to the number of required elements. \n",
        "For 50 elements, the allowed mxn dimensions are 2x25,5x10,10x5,25x2. "
      ]
    },
    {
      "cell_type": "markdown",
      "metadata": {
        "id": "nGirNkBS90-J"
      },
      "source": []
    }
  ]
}